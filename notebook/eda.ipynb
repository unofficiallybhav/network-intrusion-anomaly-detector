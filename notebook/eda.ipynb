{
 "cells": [
  {
   "cell_type": "code",
   "execution_count": null,
   "id": "ced64d23",
   "metadata": {},
   "outputs": [],
   "source": [
    "import pandas as pd\n",
    "import numpy as np\n",
    "import matplotlib.pyplot as plt\n",
    "import seaborn as sns\n",
    "from sklearn.decomposition import PCA\n",
    "from sklearn.preprocessing import StandardScaler\n",
    "\n",
    "import sys\n",
    "sys.path.append(\"../src\")\n",
    "from utils import save_plot"
   ]
  },
  {
   "cell_type": "code",
   "execution_count": null,
   "id": "2004c33e",
   "metadata": {},
   "outputs": [],
   "source": [
    "NB15_1=pd.read_csv(r'C:\\Users\\hp\\OneDrive\\Desktop\\Python\\Machine Learning\\project\\data\\UNSW-NB15_1.csv')\n",
    "NB15_2=pd.read_csv(r'C:\\Users\\hp\\OneDrive\\Desktop\\Python\\Machine Learning\\project\\data\\UNSW-NB15_2.csv')\n",
    "NB15_3=pd.read_csv(r'C:\\Users\\hp\\OneDrive\\Desktop\\Python\\Machine Learning\\project\\data\\UNSW-NB15_3.csv')\n",
    "NB15_4=pd.read_csv(r'C:\\Users\\hp\\OneDrive\\Desktop\\Python\\Machine Learning\\project\\data\\UNSW-NB15_4.csv')\n",
    "\n",
    "features=pd.read_csv(r'C:\\Users\\hp\\OneDrive\\Desktop\\Python\\Machine Learning\\project\\data\\NUSW-NB15_features.csv',encoding='latin1')"
   ]
  },
  {
   "cell_type": "code",
   "execution_count": null,
   "id": "acd8342f",
   "metadata": {},
   "outputs": [],
   "source": [
    "NB15_1.columns = features['Name'] \n",
    "NB15_2.columns = features['Name'] \n",
    "NB15_3.columns = features['Name'] \n",
    "NB15_4.columns = features['Name'] "
   ]
  },
  {
   "cell_type": "code",
   "execution_count": null,
   "id": "cb8b51a9",
   "metadata": {},
   "outputs": [],
   "source": [
    "df=pd.concat([NB15_1, NB15_2, NB15_3, NB15_4], ignore_index=True)"
   ]
  },
  {
   "cell_type": "code",
   "execution_count": null,
   "id": "1b5fdc9b",
   "metadata": {},
   "outputs": [],
   "source": [
    "df.head(5000)"
   ]
  },
  {
   "cell_type": "code",
   "execution_count": null,
   "id": "3142bf5c",
   "metadata": {},
   "outputs": [],
   "source": [
    "missing_data = df.isnull().sum().to_frame().rename(columns={0:\"Total No. of Missing Values\"})\n",
    "missing_data[\"% of Missing Values\"] = round((missing_data[\"Total No. of Missing Values\"]/len(df))*100,2)\n",
    "missing_data"
   ]
  },
  {
   "cell_type": "code",
   "execution_count": null,
   "id": "61d1917e",
   "metadata": {},
   "outputs": [],
   "source": [
    "df['attack_cat'].fillna('normal',inplace = True)\n",
    "df['attack_cat'] = df['attack_cat'].apply(lambda x: x.strip().lower())"
   ]
  },
  {
   "cell_type": "code",
   "execution_count": null,
   "id": "0f985b51",
   "metadata": {},
   "outputs": [],
   "source": [
    "df['ct_flw_http_mthd'].fillna(0, inplace=True)\n",
    "df['is_ftp_login'].fillna(0, inplace=True)"
   ]
  },
  {
   "cell_type": "code",
   "execution_count": null,
   "id": "e5f8a75f",
   "metadata": {},
   "outputs": [],
   "source": [
    "#checking for outliers\n",
    "numerical_columns = df.select_dtypes(include=['float64', 'int64']).columns.tolist()\n",
    "len(numerical_columns)"
   ]
  },
  {
   "cell_type": "code",
   "execution_count": null,
   "id": "2bab49f2",
   "metadata": {},
   "outputs": [],
   "source": [
    "fig, ax = plt.subplots(figsize=(6,4))\n",
    "sns.countplot(x='Label', data=df, palette='coolwarm', ax=ax)\n",
    "ax.set_title(\"Distribution of Normal vs Attack Traffic\")\n",
    "ax.set_xlabel(\"Label (0 = Normal, 1 = Attack)\")\n",
    "ax.set_ylabel(\"Count\")\n",
    "\n",
    "save_plot(fig, r\"C:\\Users\\hp\\OneDrive\\Desktop\\Python\\Machine Learning\\project\\outputs\\figures\\class_distribution.png\")\n",
    "plt.show()"
   ]
  },
  {
   "cell_type": "code",
   "execution_count": null,
   "id": "f3ffa00a",
   "metadata": {},
   "outputs": [],
   "source": [
    "fig, ax = plt.subplots(figsize=(10,5))\n",
    "sns.countplot(y='attack_cat', data=df, order=df['attack_cat'].value_counts().index, palette='mako', ax=ax)\n",
    "ax.set_title(\"Distribution of Attack Categories\")\n",
    "ax.set_xlabel(\"Count\")\n",
    "ax.set_ylabel(\"Attack Category\")\n",
    "\n",
    "save_plot(fig,  r\"C:\\Users\\hp\\OneDrive\\Desktop\\Python\\Machine Learning\\project\\outputs\\figures\\attack_categories.png\")\n",
    "plt.show()"
   ]
  },
  {
   "cell_type": "code",
   "execution_count": null,
   "id": "df3b3520",
   "metadata": {},
   "outputs": [],
   "source": [
    "# --- Example continuous features ---\n",
    "num_features = ['dur', 'Spkts', 'Dpkts', 'sbytes', 'dbytes']\n",
    "\n",
    "# Pairplot of numeric features vs label\n",
    "sns.pairplot(df.sample(2000), vars=num_features, hue='Label', diag_kind='kde', palette='coolwarm')\n",
    "plt.suptitle(\"Pairwise Feature Relationships\", y=1.02)\n",
    "plt.show()\n"
   ]
  },
  {
   "cell_type": "code",
   "execution_count": null,
   "id": "af806f26",
   "metadata": {},
   "outputs": [],
   "source": [
    "numeric_df = df.select_dtypes(include=[np.number])\n",
    "\n",
    "corr = numeric_df.corr()\n",
    "\n",
    "fig, ax = plt.subplots(figsize=(12,10))\n",
    "sns.heatmap(corr, cmap='coolwarm', cbar=False, ax=ax)\n",
    "ax.set_title(\"Feature Correlation Heatmap\")\n",
    "\n",
    "save_plot(fig,  r\"C:\\Users\\hp\\OneDrive\\Desktop\\Python\\Machine Learning\\project\\outputs\\figures\\correlation_heatmap.png\")\n",
    "plt.show()\n",
    "\n",
    "high_corr = [(c1, c2, corr.loc[c1, c2]) for c1 in corr.columns for c2 in corr.columns if abs(corr.loc[c1, c2]) > 0.9 and c1 != c2]\n",
    "print(f\"Highly correlated feature pairs (|r| > 0.9): {len(high_corr)}\")"
   ]
  }
 ],
 "metadata": {
  "kernelspec": {
   "display_name": "Python 3",
   "language": "python",
   "name": "python3"
  },
  "language_info": {
   "codemirror_mode": {
    "name": "ipython",
    "version": 3
   },
   "file_extension": ".py",
   "mimetype": "text/x-python",
   "name": "python",
   "nbconvert_exporter": "python",
   "pygments_lexer": "ipython3",
   "version": "3.13.7"
  }
 },
 "nbformat": 4,
 "nbformat_minor": 5
}
