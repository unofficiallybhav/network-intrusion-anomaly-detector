{
 "cells": [
  {
   "cell_type": "code",
   "execution_count": null,
   "id": "ec090067",
   "metadata": {},
   "outputs": [],
   "source": [
    "import os\n",
    "import sys\n",
    "import joblib\n",
    "import pandas as pd\n",
    "import numpy as np\n",
    "import matplotlib.pyplot as plt\n",
    "import seaborn as sns\n",
    "from sklearn.metrics import (\n",
    "    accuracy_score,\n",
    "    precision_score,\n",
    "    recall_score,\n",
    "    f1_score,\n",
    "    confusion_matrix,\n",
    "    classification_report\n",
    ")\n",
    "sys.path.append(\"../src\")\n",
    "\n",
    "from preprocessing import load_unsw_data, preprocess_data"
   ]
  },
  {
   "cell_type": "code",
   "execution_count": null,
   "id": "3432ac89",
   "metadata": {},
   "outputs": [],
   "source": [
    "df = load_unsw_data(\"../data/\")\n",
    "X_train, X_test, y_train, y_test = preprocess_data(df)\n",
    "print(f\"[✔] Loaded dataset. Test shape: {X_test.shape}\")"
   ]
  },
  {
   "cell_type": "code",
   "execution_count": null,
   "id": "5b31bc1e",
   "metadata": {},
   "outputs": [],
   "source": [
    "models_dir = \"../outputs/models/\"\n",
    "model_files = {\n",
    "    \"Random Forest\": \"random_forest.pkl\",\n",
    "    \"Logistic Regression\": \"logistic_regression.pkl\",\n",
    "    \"XGBoost\": \"xgboost.pkl\",\n",
    "    \"LightGBM\": \"lightgbm.pkl\"\n",
    "}\n",
    "\n",
    "models = {}\n",
    "for name, file in model_files.items():\n",
    "    path = os.path.join(models_dir, file)\n",
    "    if os.path.exists(path):\n",
    "        models[name] = joblib.load(path)\n",
    "        print(f\"[✔] Loaded {name}\")\n",
    "    else:\n",
    "        print(f\"[⚠] {file} not found. Skipping...\")"
   ]
  },
  {
   "cell_type": "code",
   "execution_count": null,
   "id": "d7e82c3e",
   "metadata": {},
   "outputs": [],
   "source": [
    "results = []\n",
    "\n",
    "for name, model in models.items():\n",
    "    y_pred = model.predict(X_test)\n",
    "    acc = accuracy_score(y_test, y_pred)\n",
    "    prec = precision_score(y_test, y_pred, average=\"weighted\")\n",
    "    rec = recall_score(y_test, y_pred, average=\"weighted\")\n",
    "    f1 = f1_score(y_test, y_pred, average=\"weighted\")\n",
    "    \n",
    "    print(f\"\\n=== {name} ===\")\n",
    "    print(classification_report(y_test, y_pred, digits=4))\n",
    "\n",
    "    results.append({\n",
    "        \"Model\": name,\n",
    "        \"Accuracy\": acc,\n",
    "        \"Precision\": prec,\n",
    "        \"Recall\": rec,\n",
    "        \"F1-score\": f1\n",
    "    })\n",
    "\n",
    "results_df = pd.DataFrame(results).sort_values(by=\"F1-score\", ascending=False)\n",
    "results_df.reset_index(drop=True, inplace=True)\n",
    "print(\"\\n=== Summary ===\")\n",
    "display(results_df)"
   ]
  },
  {
   "cell_type": "code",
   "execution_count": null,
   "id": "8daaeaba",
   "metadata": {},
   "outputs": [],
   "source": [
    "plt.figure(figsize=(9,5))\n",
    "sns.barplot(x=\"Model\", y=\"Accuracy\", data=results_df, hue=\"Model\", dodge=False)\n",
    "plt.title(\"Model Comparison by Accuracy\")\n",
    "plt.ylim(0.5, 1.0)\n",
    "plt.tight_layout()\n",
    "plt.savefig(\"../outputs/figures/model_accuracy_comparison.png\", dpi=300)\n",
    "plt.show()\n",
    "\n",
    "plt.figure(figsize=(9,5))\n",
    "sns.barplot(x=\"Model\", y=\"F1-score\", data=results_df, hue=\"Model\", dodge=False)\n",
    "plt.title(\"Model Comparison by F1-score\")\n",
    "plt.ylim(0.5, 1.0)\n",
    "plt.tight_layout()\n",
    "plt.savefig(\"../outputs/figures/model_f1_comparison.png\", dpi=300)\n",
    "plt.show()"
   ]
  },
  {
   "cell_type": "code",
   "execution_count": null,
   "id": "891a1260",
   "metadata": {},
   "outputs": [],
   "source": [
    "for name, model in models.items():\n",
    "    y_pred = model.predict(X_test)\n",
    "    cm = confusion_matrix(y_test, y_pred)\n",
    "    plt.figure(figsize=(5,4))\n",
    "    sns.heatmap(cm, annot=True, fmt=\"d\", cmap=\"Blues\")\n",
    "    plt.title(f\"{name} - Confusion Matrix\")\n",
    "    plt.xlabel(\"Predicted\")\n",
    "    plt.ylabel(\"Actual\")\n",
    "    plt.tight_layout()\n",
    "    plt.savefig(f\"../outputs/figures/{name.replace(' ', '_')}_confusion_matrix.png\", dpi=300)\n",
    "    plt.show()"
   ]
  },
  {
   "cell_type": "code",
   "execution_count": null,
   "id": "5d5a8638",
   "metadata": {},
   "outputs": [],
   "source": [
    "best_model = results_df.iloc[0]\n",
    "print(f\"Best Model: {best_model['Model']}\")\n",
    "print(f\"Accuracy: {best_model['Accuracy']:.4f}\")\n",
    "print(f\"F1-score: {best_model['F1-score']:.4f}\")"
   ]
  }
 ],
 "metadata": {
  "kernelspec": {
   "display_name": "Python 3",
   "language": "python",
   "name": "python3"
  },
  "language_info": {
   "codemirror_mode": {
    "name": "ipython",
    "version": 3
   },
   "file_extension": ".py",
   "mimetype": "text/x-python",
   "name": "python",
   "nbconvert_exporter": "python",
   "pygments_lexer": "ipython3",
   "version": "3.13.7"
  }
 },
 "nbformat": 4,
 "nbformat_minor": 5
}
