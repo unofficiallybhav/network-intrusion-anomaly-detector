{
 "cells": [
  {
   "cell_type": "code",
   "execution_count": null,
   "id": "a3e3d3ff",
   "metadata": {},
   "outputs": [],
   "source": [
    "import os\n",
    "import sys\n",
    "import joblib\n",
    "import pandas as pd\n",
    "import numpy as np\n",
    "import matplotlib.pyplot as plt\n",
    "import seaborn as sns\n",
    "\n",
    "sys.path.append(\"../src\")\n",
    "\n",
    "from preprocessing import load_unsw_data, preprocess_data\n",
    "from selection import unsupervised_feature_selection, apply_pca\n",
    "from sklearn.metrics import roc_auc_score,classification_report"
   ]
  },
  {
   "cell_type": "code",
   "execution_count": null,
   "id": "a4e8d831",
   "metadata": {},
   "outputs": [],
   "source": [
    "print(\"[1] Loading UNSW-NB15 dataset...\")\n",
    "df = load_unsw_data(\"../data/\")\n",
    "X_train, X_test, y_train, y_test = preprocess_data(df)\n",
    "\n",
    "print(f\"[✔] Dataset loaded. Train: {X_train.shape}, Test: {X_test.shape}\")"
   ]
  },
  {
   "cell_type": "code",
   "execution_count": null,
   "id": "6a742aea",
   "metadata": {},
   "outputs": [],
   "source": [
    "print(\"\\n[2] Performing Feature Selection and PCA...\")\n",
    "\n",
    "#feature selection using Variance Threshold\n",
    "X_train_fs = unsupervised_feature_selection(X_train)\n",
    "X_test_fs = X_test[X_train_fs.columns]\n",
    "\n",
    "# Apply PCA for anomaly modeling\n",
    "X_train_pca, X_test_pca, _ = apply_pca(X_train_fs, X_test_fs, n_components=15)\n",
    "\n",
    "print(f\"[✔] Final Feature Shape: {X_train_pca.shape}\")"
   ]
  },
  {
   "cell_type": "code",
   "execution_count": null,
   "id": "6d9c00e4",
   "metadata": {},
   "outputs": [],
   "source": [
    "print(\"\\n[3] Loading Models...\")\n",
    "\n",
    "models_dir = \"../outputs/models/\"\n",
    "model_files = {\n",
    "    \"Isolation Forest\":\"isolation_forest.pkl\",\n",
    "    \"One Class SVM\":\"one_class_svm.pkl\"\n",
    "}\n",
    "\n",
    "models = {}\n",
    "for name, file in model_files.items():\n",
    "    path = os.path.join(models_dir, file)\n",
    "    if os.path.exists(path):\n",
    "        models[name] = joblib.load(path)\n",
    "        print(f\"[✔] Loaded {name}\")\n",
    "    else:\n",
    "        print(f\"[⚠] {file} not found. Skipping...\")"
   ]
  },
  {
   "cell_type": "code",
   "execution_count": null,
   "id": "9f691a46",
   "metadata": {},
   "outputs": [],
   "source": [
    "results = []\n",
    "\n",
    "for name, model in models.items():\n",
    "    preds=model.fit_predict(X_test_pca)\n",
    "    preds = np.where(preds == -1, 1, 0)\n",
    "    auc_roc=roc_auc_score(y_test,preds)\n",
    "\n",
    "    print(f\"\\n=== {name} ===\")\n",
    "    print(classification_report(y_test, preds, digits=4))\n",
    "\n",
    "    results.append({\n",
    "        \"Model\": name,\n",
    "        \"AUC-ROC\":auc_roc\n",
    "    })\n",
    "\n",
    "results_df = pd.DataFrame(results).sort_values(by=\"AUC-ROC\", ascending=False)\n",
    "results_df.reset_index(drop=True, inplace=True)\n",
    "print(\"\\n=== Summary ===\")\n",
    "display(results_df)"
   ]
  },
  {
   "cell_type": "code",
   "execution_count": null,
   "id": "b6f8aa70",
   "metadata": {},
   "outputs": [],
   "source": [
    "plt.figure(figsize=(9,5))\n",
    "sns.barplot(x=\"Model\", y=\"AUC-ROC\", data=results_df, hue=\"Model\", dodge=False)\n",
    "plt.title(\"Model Comparison by AUC-ROC\")\n",
    "plt.ylim(0.5, 1.0)\n",
    "plt.tight_layout()\n",
    "plt.savefig(\"../outputs/figures/model_auc-roc_comparison.png\", dpi=300)\n",
    "plt.show()\n"
   ]
  },
  {
   "cell_type": "code",
   "execution_count": null,
   "id": "6bbdb6ad",
   "metadata": {},
   "outputs": [],
   "source": [
    "plt.figure(figsize=(7,5))\n",
    "plt.scatter(X_test_pca[:, 0], X_test_pca[:, 1], c=y_test, cmap=\"coolwarm\", s=8, alpha=0.6)\n",
    "plt.title(\"PCA 2D Projection of Test Data (Normal vs Attack)\")\n",
    "plt.xlabel(\"PCA Component 1\")\n",
    "plt.ylabel(\"PCA Component 2\")\n",
    "plt.tight_layout()\n",
    "plt.savefig(\"../outputs/figures/pca_visualization.png\")\n",
    "plt.show()"
   ]
  },
  {
   "cell_type": "code",
   "execution_count": null,
   "id": "1086e986",
   "metadata": {},
   "outputs": [],
   "source": [
    "print(\"\\n===Final Unsupervised Model Results ===\")\n",
    "print(results.to_string(index=False))\n"
   ]
  }
 ],
 "metadata": {
  "kernelspec": {
   "display_name": "Python 3",
   "language": "python",
   "name": "python3"
  },
  "language_info": {
   "codemirror_mode": {
    "name": "ipython",
    "version": 3
   },
   "file_extension": ".py",
   "mimetype": "text/x-python",
   "name": "python",
   "nbconvert_exporter": "python",
   "pygments_lexer": "ipython3",
   "version": "3.13.7"
  }
 },
 "nbformat": 4,
 "nbformat_minor": 5
}
