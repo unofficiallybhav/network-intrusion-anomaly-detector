{
 "cells": [
  {
   "cell_type": "code",
   "execution_count": null,
   "id": "a3e3d3ff",
   "metadata": {},
   "outputs": [],
   "source": [
    "import os\n",
    "import sys\n",
    "import pandas as pd\n",
    "import numpy as np\n",
    "import matplotlib.pyplot as plt\n",
    "import seaborn as sns\n",
    "\n",
    "sys.path.append(\"../src\")\n",
    "\n",
    "from preprocessing import load_unsw_data, preprocess_data\n",
    "from anomaly import run_isolation_forest, run_one_class_svm\n",
    "from selection import remove_correlated_features, unsupervised_feature_selection, apply_pca\n",
    "from tuning import tune_isolation_forest, tune_one_class_svm\n",
    "from sklearn.metrics import roc_auc_score"
   ]
  },
  {
   "cell_type": "code",
   "execution_count": 2,
   "id": "a4e8d831",
   "metadata": {},
   "outputs": [
    {
     "name": "stdout",
     "output_type": "stream",
     "text": [
      "[1] Loading UNSW-NB15 dataset...\n",
      "[✔] Dataset loaded. Train: (1441590, 48), Test: (617825, 48)\n"
     ]
    }
   ],
   "source": [
    "print(\"[1] Loading UNSW-NB15 dataset...\")\n",
    "df = load_unsw_data(\"../data/\")\n",
    "X_train, X_test, y_train, y_test = preprocess_data(df)\n",
    "\n",
    "print(f\"[✔] Dataset loaded. Train: {X_train.shape}, Test: {X_test.shape}\")"
   ]
  },
  {
   "cell_type": "code",
   "execution_count": null,
   "id": "6a742aea",
   "metadata": {},
   "outputs": [
    {
     "name": "stdout",
     "output_type": "stream",
     "text": [
      "\n",
      "[2] Performing Feature Selection and PCA...\n",
      "[✔] Dropped 8 correlated features.\n",
      "[✔] Selected top 25 features using RandomForest importance.\n",
      "[✔] Applied PCA → 10 components explain 75.26% variance.\n",
      "[✔] Final Feature Shape: (1441590, 10)\n"
     ]
    },
    {
     "name": "stderr",
     "output_type": "stream",
     "text": [
      "C:\\Users\\hp\\AppData\\Local\\Temp\\ipykernel_26552\\3890242660.py:19: FutureWarning: \n",
      "\n",
      "Passing `palette` without assigning `hue` is deprecated and will be removed in v0.14.0. Assign the `y` variable to `hue` and set `legend=False` for the same effect.\n",
      "\n",
      "  sns.barplot(x=importances.nlargest(10).values, y=importances.nlargest(10).index, palette=\"coolwarm\")\n"
     ]
    },
    {
     "data": {
      "image/png": "[encoded data removed]",
      "text/plain": [
       "<Figure size 800x500 with 1 Axes>"
      ]
     },
     "metadata": {},
     "output_type": "display_data"
    }
   ],
   "source": [
    "print(\"\\n[2] Performing Feature Selection and PCA...\")\n",
    "\n",
    "# Remove correlated features\n",
    "X_train_corr, _ = remove_correlated_features(X_train)\n",
    "X_test_corr = X_test[X_train_corr.columns]\n",
    "    \n",
    "X_train_fs = unsupervised_feature_selection(X_train_corr)\n",
    "X_test_fs = X_test_corr[X_train_fs.columns]\n",
    "\n",
    "# Apply PCA for anomaly modeling\n",
    "X_train_pca, X_test_pca, _ = apply_pca(X_train_fs, X_test_fs, n_components=15)\n",
    "\n",
    "print(f\"[✔] Final Feature Shape: {X_train_pca.shape}\")"
   ]
  },
  {
   "cell_type": "code",
   "execution_count": null,
   "id": "0df7d7d7",
   "metadata": {},
   "outputs": [],
   "source": [
    "print(\"\\n[3] Parameter Tuning Anomaly Detection Models...\")\n",
    "\n",
    "# Isolation Forest\n",
    "best_params_if, _ = tune_isolation_forest(X_test_pca, y_test)\n",
    "\n",
    "# One-Class SVM\n",
    "best_params_svm, _ = tune_one_class_svm(X_test_pca, y_test)"
   ]
  },
  {
   "cell_type": "code",
   "execution_count": null,
   "id": "758d857c",
   "metadata": {},
   "outputs": [
    {
     "name": "stdout",
     "output_type": "stream",
     "text": [
      "\n",
      "[3] Tuning and Evaluating Anomaly Detection Models...\n",
      "[✔] Best Isolation Forest AUC: 0.948\n",
      "Best Params: {'contamination': 0.1, 'max_features': 0.8, 'max_samples': 0.8, 'n_estimators': 200}\n",
      "[✔] Final Isolation Forest ROC-AUC: 0.948\n"
     ]
    }
   ],
   "source": [
    "print(\"\\n[4] Evaluating Anomaly Detection Models...\")\n",
    "\n",
    "# Isolation Forest\n",
    "from sklearn.ensemble import IsolationForest\n",
    "iso = IsolationForest(random_state=42, **best_params_if)\n",
    "preds_if = iso.fit_predict(X_test_pca)\n",
    "preds_if = np.where(preds_if == -1, 1, 0)\n",
    "auc_if = roc_auc_score(y_test, preds_if)\n",
    "print(f\"[✔] Final Isolation Forest ROC-AUC: {auc_if:.3f}\")"
   ]
  },
  {
   "cell_type": "code",
   "execution_count": null,
   "id": "c8e69384",
   "metadata": {},
   "outputs": [],
   "source": [
    "# One-Class SVM\n",
    "from sklearn.svm import OneClassSVM\n",
    "ocsvm = OneClassSVM(**best_params_svm)\n",
    "preds_svm = ocsvm.fit_predict(X_test_pca)\n",
    "preds_svm = np.where(preds_svm == -1, 1, 0)\n",
    "auc_svm = roc_auc_score(y_test, preds_svm)\n",
    "print(f\"[✔] Final One-Class SVM ROC-AUC: {auc_svm:.3f}\")"
   ]
  },
  {
   "cell_type": "code",
   "execution_count": 1,
   "id": "b6f8aa70",
   "metadata": {},
   "outputs": [
    {
     "ename": "NameError",
     "evalue": "name 'pd' is not defined",
     "output_type": "error",
     "traceback": [
      "\u001b[31m---------------------------------------------------------------------------\u001b[39m",
      "\u001b[31mNameError\u001b[39m                                 Traceback (most recent call last)",
      "\u001b[36mCell\u001b[39m\u001b[36m \u001b[39m\u001b[32mIn[1]\u001b[39m\u001b[32m, line 1\u001b[39m\n\u001b[32m----> \u001b[39m\u001b[32m1\u001b[39m results = \u001b[43mpd\u001b[49m.DataFrame([\n\u001b[32m      2\u001b[39m     {\u001b[33m\"\u001b[39m\u001b[33mModel\u001b[39m\u001b[33m\"\u001b[39m: \u001b[33m\"\u001b[39m\u001b[33mIsolation Forest\u001b[39m\u001b[33m\"\u001b[39m, \u001b[33m\"\u001b[39m\u001b[33mROC-AUC\u001b[39m\u001b[33m\"\u001b[39m: auc_if},\n\u001b[32m      3\u001b[39m     {\u001b[33m\"\u001b[39m\u001b[33mModel\u001b[39m\u001b[33m\"\u001b[39m: \u001b[33m\"\u001b[39m\u001b[33mOne-Class SVM\u001b[39m\u001b[33m\"\u001b[39m, \u001b[33m\"\u001b[39m\u001b[33mROC-AUC\u001b[39m\u001b[33m\"\u001b[39m: auc_svm}\n\u001b[32m      4\u001b[39m ])\n\u001b[32m      6\u001b[39m plt.figure(figsize=(\u001b[32m7\u001b[39m,\u001b[32m5\u001b[39m))\n\u001b[32m      7\u001b[39m sns.barplot(x=\u001b[33m\"\u001b[39m\u001b[33mModel\u001b[39m\u001b[33m\"\u001b[39m, y=\u001b[33m\"\u001b[39m\u001b[33mROC-AUC\u001b[39m\u001b[33m\"\u001b[39m, data=results, palette=\u001b[33m\"\u001b[39m\u001b[33mviridis\u001b[39m\u001b[33m\"\u001b[39m)\n",
      "\u001b[31mNameError\u001b[39m: name 'pd' is not defined"
     ]
    }
   ],
   "source": [
    "results = pd.DataFrame([\n",
    "    {\"Model\": \"Isolation Forest\", \"ROC-AUC\": auc_if},\n",
    "    {\"Model\": \"One-Class SVM\", \"ROC-AUC\": auc_svm}\n",
    "])\n",
    "\n",
    "plt.figure(figsize=(7,5))\n",
    "sns.barplot(x=\"Model\", y=\"ROC-AUC\", data=results, palette=\"viridis\")\n",
    "plt.title(\"Tuned Anomaly Detection Model Performance\")\n",
    "plt.ylim(0.5, 1.0)\n",
    "plt.tight_layout()\n",
    "plt.show()\n"
   ]
  },
  {
   "cell_type": "code",
   "execution_count": null,
   "id": "6bbdb6ad",
   "metadata": {},
   "outputs": [],
   "source": [
    "plt.figure(figsize=(7,5))\n",
    "plt.scatter(X_test_pca[:, 0], X_test_pca[:, 1], c=y_test, cmap=\"coolwarm\", s=8, alpha=0.6)\n",
    "plt.title(\"PCA 2D Projection of Test Data (Normal vs Attack)\")\n",
    "plt.xlabel(\"PCA Component 1\")\n",
    "plt.ylabel(\"PCA Component 2\")\n",
    "plt.tight_layout()\n",
    "plt.show()"
   ]
  },
  {
   "cell_type": "code",
   "execution_count": null,
   "id": "1086e986",
   "metadata": {},
   "outputs": [],
   "source": [
    "print(\"\\n=== 🏁 Final Unsupervised Model Results ===\")\n",
    "print(results.to_string(index=False))\n"
   ]
  }
 ],
 "metadata": {
  "kernelspec": {
   "display_name": "Python 3",
   "language": "python",
   "name": "python3"
  },
  "language_info": {
   "codemirror_mode": {
    "name": "ipython",
    "version": 3
   },
   "file_extension": ".py",
   "mimetype": "text/x-python",
   "name": "python",
   "nbconvert_exporter": "python",
   "pygments_lexer": "ipython3",
   "version": "3.13.7"
  }
 },
 "nbformat": 4,
 "nbformat_minor": 5
}
