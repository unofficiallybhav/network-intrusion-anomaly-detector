{
 "cells": [
  {
   "cell_type": "code",
   "execution_count": null,
   "id": "a3e3d3ff",
   "metadata": {},
   "outputs": [],
   "source": [
    "import os\n",
    "import sys\n",
    "import pandas as pd\n",
    "import numpy as np\n",
    "import matplotlib.pyplot as plt\n",
    "import seaborn as sns\n",
    "\n",
    "sys.path.append(\"../src\")\n",
    "\n",
    "from preprocessing import load_unsw_data, preprocess_data\n",
    "from anomaly import run_isolation_forest, run_one_class_svm\n",
    "from selection import remove_correlated_features, unsupervised_feature_selection, apply_pca\n",
    "from tuning import tune_isolation_forest, tune_one_class_svm\n",
    "from sklearn.metrics import roc_auc_score"
   ]
  },
  {
   "cell_type": "code",
   "execution_count": null,
   "id": "a4e8d831",
   "metadata": {},
   "outputs": [],
   "source": [
    "print(\"[1] Loading UNSW-NB15 dataset...\")\n",
    "df = load_unsw_data(\"../data/\")\n",
    "X_train, X_test, y_train, y_test = preprocess_data(df)\n",
    "\n",
    "print(f\"[✔] Dataset loaded. Train: {X_train.shape}, Test: {X_test.shape}\")"
   ]
  },
  {
   "cell_type": "code",
   "execution_count": null,
   "id": "6a742aea",
   "metadata": {},
   "outputs": [],
   "source": [
    "print(\"\\n[2] Performing Feature Selection and PCA...\")\n",
    "\n",
    "# Remove correlated features\n",
    "X_train_corr, _ = remove_correlated_features(X_train)\n",
    "X_test_corr = X_test[X_train_corr.columns]\n",
    "    \n",
    "X_train_fs = unsupervised_feature_selection(X_train_corr)\n",
    "X_test_fs = X_test_corr[X_train_fs.columns]\n",
    "\n",
    "# Apply PCA for anomaly modeling\n",
    "X_train_pca, X_test_pca, _ = apply_pca(X_train_fs, X_test_fs, n_components=15)\n",
    "\n",
    "print(f\"[✔] Final Feature Shape: {X_train_pca.shape}\")"
   ]
  },
  {
   "cell_type": "code",
   "execution_count": null,
   "id": "0df7d7d7",
   "metadata": {},
   "outputs": [],
   "source": [
    "print(\"\\n[3] Parameter Tuning Anomaly Detection Models...\")\n",
    "\n",
    "# Isolation Forest\n",
    "best_params_if, _ = tune_isolation_forest(X_test_pca, y_test)\n",
    "\n",
    "# One-Class SVM\n",
    "best_params_svm, _ = tune_one_class_svm(X_test_pca, y_test)"
   ]
  },
  {
   "cell_type": "code",
   "execution_count": null,
   "id": "758d857c",
   "metadata": {},
   "outputs": [],
   "source": [
    "print(\"\\n[4] Evaluating Anomaly Detection Models...\")\n",
    "\n",
    "# Isolation Forest\n",
    "from sklearn.ensemble import IsolationForest\n",
    "iso = IsolationForest(random_state=42, **best_params_if)\n",
    "preds_if = iso.fit_predict(X_test_pca)\n",
    "preds_if = np.where(preds_if == -1, 1, 0)\n",
    "auc_if = roc_auc_score(y_test, preds_if)\n",
    "print(f\"[✔] Final Isolation Forest ROC-AUC: {auc_if:.3f}\")"
   ]
  },
  {
   "cell_type": "code",
   "execution_count": null,
   "id": "c8e69384",
   "metadata": {},
   "outputs": [],
   "source": [
    "# One-Class SVM\n",
    "from sklearn.svm import OneClassSVM\n",
    "ocsvm = OneClassSVM(**best_params_svm)\n",
    "preds_svm = ocsvm.fit_predict(X_test_pca)\n",
    "preds_svm = np.where(preds_svm == -1, 1, 0)\n",
    "auc_svm = roc_auc_score(y_test, preds_svm)\n",
    "print(f\"[✔] Final One-Class SVM ROC-AUC: {auc_svm:.3f}\")"
   ]
  },
  {
   "cell_type": "code",
   "execution_count": null,
   "id": "b6f8aa70",
   "metadata": {},
   "outputs": [],
   "source": [
    "results = pd.DataFrame([\n",
    "    {\"Model\": \"Isolation Forest\", \"ROC-AUC\": auc_if},\n",
    "    {\"Model\": \"One-Class SVM\", \"ROC-AUC\": auc_svm}\n",
    "])\n",
    "\n",
    "plt.figure(figsize=(7,5))\n",
    "sns.barplot(x=\"Model\", y=\"ROC-AUC\", data=results, palette=\"viridis\")\n",
    "plt.title(\"Tuned Anomaly Detection Model Performance\")\n",
    "plt.ylim(0.5, 1.0)\n",
    "plt.tight_layout()\n",
    "plt.show()\n"
   ]
  },
  {
   "cell_type": "code",
   "execution_count": null,
   "id": "6bbdb6ad",
   "metadata": {},
   "outputs": [],
   "source": [
    "plt.figure(figsize=(7,5))\n",
    "plt.scatter(X_test_pca[:, 0], X_test_pca[:, 1], c=y_test, cmap=\"coolwarm\", s=8, alpha=0.6)\n",
    "plt.title(\"PCA 2D Projection of Test Data (Normal vs Attack)\")\n",
    "plt.xlabel(\"PCA Component 1\")\n",
    "plt.ylabel(\"PCA Component 2\")\n",
    "plt.tight_layout()\n",
    "plt.show()"
   ]
  },
  {
   "cell_type": "code",
   "execution_count": null,
   "id": "1086e986",
   "metadata": {},
   "outputs": [],
   "source": [
    "print(\"\\n===Final Unsupervised Model Results ===\")\n",
    "print(results.to_string(index=False))\n"
   ]
  }
 ],
 "metadata": {
  "kernelspec": {
   "display_name": "Python 3",
   "language": "python",
   "name": "python3"
  },
  "language_info": {
   "codemirror_mode": {
    "name": "ipython",
    "version": 3
   },
   "file_extension": ".py",
   "mimetype": "text/x-python",
   "name": "python",
   "nbconvert_exporter": "python",
   "pygments_lexer": "ipython3",
   "version": "3.13.7"
  }
 },
 "nbformat": 4,
 "nbformat_minor": 5
}
